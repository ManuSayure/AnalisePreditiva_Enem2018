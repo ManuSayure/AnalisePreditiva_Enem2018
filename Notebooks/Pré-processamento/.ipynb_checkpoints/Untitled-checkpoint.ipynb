{
 "cells": [
  {
   "cell_type": "code",
   "execution_count": null,
   "metadata": {},
   "outputs": [],
   "source": [
    "#Importando os microdados do enem para um dataframe\n",
    "\n",
    "df = pd.read_csv('MICRODADOS_ENEM_2018.csv', sep = ';', encoding='ISO 8859-1', nrows = 10)\n",
    "\n",
    "#Ver os valores das coluna do dataframe gerado\n",
    "colunas = df.columns.values\n",
    "colunas "
   ]
  }
 ],
 "metadata": {
  "kernelspec": {
   "display_name": "Python 3",
   "language": "python",
   "name": "python3"
  },
  "language_info": {
   "codemirror_mode": {
    "name": "ipython",
    "version": 3
   },
   "file_extension": ".py",
   "mimetype": "text/x-python",
   "name": "python",
   "nbconvert_exporter": "python",
   "pygments_lexer": "ipython3",
   "version": "3.7.1"
  }
 },
 "nbformat": 4,
 "nbformat_minor": 4
}
